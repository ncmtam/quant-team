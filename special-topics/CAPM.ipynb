{
 "cells": [
  {
   "cell_type": "code",
   "execution_count": 45,
   "id": "4aca7ed9",
   "metadata": {},
   "outputs": [],
   "source": [
    "import numpy as np\n",
    "import pandas as pd\n",
    "import yfinance as yf"
   ]
  },
  {
   "cell_type": "markdown",
   "id": "4b7847cc",
   "metadata": {},
   "source": [
    "## 1. Downloading The Monthly Data of Apple"
   ]
  },
  {
   "cell_type": "code",
   "execution_count": 46,
   "id": "1275bd98",
   "metadata": {},
   "outputs": [
    {
     "name": "stdout",
     "output_type": "stream",
     "text": [
      "[*********************100%***********************]  2 of 2 completed\n"
     ]
    }
   ],
   "source": [
    "Data=yf.download(['AAPL','^GSPC'],start=\"2018-01-01\",end=\"2023-01-01\")['Adj Close'].resample('m').last()"
   ]
  },
  {
   "cell_type": "code",
   "execution_count": 47,
   "id": "f0cf5ab9",
   "metadata": {},
   "outputs": [
    {
     "data": {
      "text/html": [
       "<div>\n",
       "<style scoped>\n",
       "    .dataframe tbody tr th:only-of-type {\n",
       "        vertical-align: middle;\n",
       "    }\n",
       "\n",
       "    .dataframe tbody tr th {\n",
       "        vertical-align: top;\n",
       "    }\n",
       "\n",
       "    .dataframe thead th {\n",
       "        text-align: right;\n",
       "    }\n",
       "</style>\n",
       "<table border=\"1\" class=\"dataframe\">\n",
       "  <thead>\n",
       "    <tr style=\"text-align: right;\">\n",
       "      <th></th>\n",
       "      <th>AAPL</th>\n",
       "      <th>^GSPC</th>\n",
       "    </tr>\n",
       "    <tr>\n",
       "      <th>Date</th>\n",
       "      <th></th>\n",
       "      <th></th>\n",
       "    </tr>\n",
       "  </thead>\n",
       "  <tbody>\n",
       "    <tr>\n",
       "      <th>2018-01-31 00:00:00-05:00</th>\n",
       "      <td>39.741604</td>\n",
       "      <td>2823.810059</td>\n",
       "    </tr>\n",
       "    <tr>\n",
       "      <th>2018-02-28 00:00:00-05:00</th>\n",
       "      <td>42.451378</td>\n",
       "      <td>2713.830078</td>\n",
       "    </tr>\n",
       "    <tr>\n",
       "      <th>2018-03-31 00:00:00-04:00</th>\n",
       "      <td>39.987061</td>\n",
       "      <td>2640.870117</td>\n",
       "    </tr>\n",
       "    <tr>\n",
       "      <th>2018-04-30 00:00:00-04:00</th>\n",
       "      <td>39.386467</td>\n",
       "      <td>2648.050049</td>\n",
       "    </tr>\n",
       "    <tr>\n",
       "      <th>2018-05-31 00:00:00-04:00</th>\n",
       "      <td>44.708508</td>\n",
       "      <td>2705.270020</td>\n",
       "    </tr>\n",
       "  </tbody>\n",
       "</table>\n",
       "</div>"
      ],
      "text/plain": [
       "                                AAPL        ^GSPC\n",
       "Date                                             \n",
       "2018-01-31 00:00:00-05:00  39.741604  2823.810059\n",
       "2018-02-28 00:00:00-05:00  42.451378  2713.830078\n",
       "2018-03-31 00:00:00-04:00  39.987061  2640.870117\n",
       "2018-04-30 00:00:00-04:00  39.386467  2648.050049\n",
       "2018-05-31 00:00:00-04:00  44.708508  2705.270020"
      ]
     },
     "execution_count": 47,
     "metadata": {},
     "output_type": "execute_result"
    }
   ],
   "source": [
    "Data.head()"
   ]
  },
  {
   "cell_type": "markdown",
   "id": "dbef187d",
   "metadata": {},
   "source": [
    "## 2. Calculating Monthly Log Return "
   ]
  },
  {
   "cell_type": "markdown",
   "id": "fb5ae433",
   "metadata": {},
   "source": [
    "#### simple return has unlimited upside return, but downside is limited, capped at -100%\n",
    "#### Cap on downside makes value inaccurate when we calculate the mean\n",
    "#### $log(1+r)$ has no constraints on either upside or downside"
   ]
  },
  {
   "cell_type": "code",
   "execution_count": 48,
   "id": "151477cc",
   "metadata": {},
   "outputs": [],
   "source": [
    "Data['Log_Apple_Return']=np.log(Data['AAPL']/Data['AAPL'].shift(1))\n",
    "Data['Log_Market_Return']=np.log(Data['^GSPC']/Data['^GSPC'].shift(1))\n",
    "Data.dropna(inplace=True)"
   ]
  },
  {
   "cell_type": "code",
   "execution_count": 49,
   "id": "fc50dc73",
   "metadata": {},
   "outputs": [
    {
     "data": {
      "text/html": [
       "<div>\n",
       "<style scoped>\n",
       "    .dataframe tbody tr th:only-of-type {\n",
       "        vertical-align: middle;\n",
       "    }\n",
       "\n",
       "    .dataframe tbody tr th {\n",
       "        vertical-align: top;\n",
       "    }\n",
       "\n",
       "    .dataframe thead th {\n",
       "        text-align: right;\n",
       "    }\n",
       "</style>\n",
       "<table border=\"1\" class=\"dataframe\">\n",
       "  <thead>\n",
       "    <tr style=\"text-align: right;\">\n",
       "      <th></th>\n",
       "      <th>Log_Apple_Return</th>\n",
       "      <th>Log_Market_Return</th>\n",
       "    </tr>\n",
       "    <tr>\n",
       "      <th>Date</th>\n",
       "      <th></th>\n",
       "      <th></th>\n",
       "    </tr>\n",
       "  </thead>\n",
       "  <tbody>\n",
       "    <tr>\n",
       "      <th>2018-02-28 00:00:00-05:00</th>\n",
       "      <td>0.065961</td>\n",
       "      <td>-0.039726</td>\n",
       "    </tr>\n",
       "    <tr>\n",
       "      <th>2018-03-31 00:00:00-04:00</th>\n",
       "      <td>-0.059803</td>\n",
       "      <td>-0.027252</td>\n",
       "    </tr>\n",
       "    <tr>\n",
       "      <th>2018-04-30 00:00:00-04:00</th>\n",
       "      <td>-0.015134</td>\n",
       "      <td>0.002715</td>\n",
       "    </tr>\n",
       "    <tr>\n",
       "      <th>2018-05-31 00:00:00-04:00</th>\n",
       "      <td>0.126742</td>\n",
       "      <td>0.021378</td>\n",
       "    </tr>\n",
       "    <tr>\n",
       "      <th>2018-06-30 00:00:00-04:00</th>\n",
       "      <td>-0.009463</td>\n",
       "      <td>0.004831</td>\n",
       "    </tr>\n",
       "  </tbody>\n",
       "</table>\n",
       "</div>"
      ],
      "text/plain": [
       "                           Log_Apple_Return  Log_Market_Return\n",
       "Date                                                          \n",
       "2018-02-28 00:00:00-05:00          0.065961          -0.039726\n",
       "2018-03-31 00:00:00-04:00         -0.059803          -0.027252\n",
       "2018-04-30 00:00:00-04:00         -0.015134           0.002715\n",
       "2018-05-31 00:00:00-04:00          0.126742           0.021378\n",
       "2018-06-30 00:00:00-04:00         -0.009463           0.004831"
      ]
     },
     "execution_count": 49,
     "metadata": {},
     "output_type": "execute_result"
    }
   ],
   "source": [
    "Data=Data[['Log_Apple_Return','Log_Market_Return']] # rename to log returns?\n",
    "Data.head()"
   ]
  },
  {
   "cell_type": "markdown",
   "id": "d8fe0e8a",
   "metadata": {},
   "source": [
    "## 3. Computing the Beta"
   ]
  },
  {
   "cell_type": "markdown",
   "id": "e9d67709",
   "metadata": {},
   "source": [
    "### First Way "
   ]
  },
  {
   "cell_type": "code",
   "execution_count": 50,
   "id": "3036abaf",
   "metadata": {},
   "outputs": [
    {
     "data": {
      "text/html": [
       "<div>\n",
       "<style scoped>\n",
       "    .dataframe tbody tr th:only-of-type {\n",
       "        vertical-align: middle;\n",
       "    }\n",
       "\n",
       "    .dataframe tbody tr th {\n",
       "        vertical-align: top;\n",
       "    }\n",
       "\n",
       "    .dataframe thead th {\n",
       "        text-align: right;\n",
       "    }\n",
       "</style>\n",
       "<table border=\"1\" class=\"dataframe\">\n",
       "  <thead>\n",
       "    <tr style=\"text-align: right;\">\n",
       "      <th></th>\n",
       "      <th>Log_Apple_Return</th>\n",
       "      <th>Log_Market_Return</th>\n",
       "    </tr>\n",
       "  </thead>\n",
       "  <tbody>\n",
       "    <tr>\n",
       "      <th>Log_Apple_Return</th>\n",
       "      <td>0.008615</td>\n",
       "      <td>0.003682</td>\n",
       "    </tr>\n",
       "    <tr>\n",
       "      <th>Log_Market_Return</th>\n",
       "      <td>0.003682</td>\n",
       "      <td>0.002947</td>\n",
       "    </tr>\n",
       "  </tbody>\n",
       "</table>\n",
       "</div>"
      ],
      "text/plain": [
       "                   Log_Apple_Return  Log_Market_Return\n",
       "Log_Apple_Return           0.008615           0.003682\n",
       "Log_Market_Return          0.003682           0.002947"
      ]
     },
     "execution_count": 50,
     "metadata": {},
     "output_type": "execute_result"
    }
   ],
   "source": [
    "covariance_matrix=Data.cov()\n",
    "covariance_matrix"
   ]
  },
  {
   "cell_type": "code",
   "execution_count": 51,
   "id": "00f283c5",
   "metadata": {},
   "outputs": [
    {
     "name": "stdout",
     "output_type": "stream",
     "text": [
      "Beta of the stock is  1.2492166423248385\n"
     ]
    }
   ],
   "source": [
    "Beta=covariance_matrix.iloc[0,1]/covariance_matrix.iloc[1,1]\n",
    "print(\"Beta of the stock is \",Beta)"
   ]
  },
  {
   "cell_type": "markdown",
   "id": "effb0de7",
   "metadata": {},
   "source": [
    "### Regression "
   ]
  },
  {
   "cell_type": "code",
   "execution_count": 52,
   "id": "10951065",
   "metadata": {},
   "outputs": [
    {
     "name": "stdout",
     "output_type": "stream",
     "text": [
      "                            OLS Regression Results                            \n",
      "==============================================================================\n",
      "Dep. Variable:       Log_Apple_Return   R-squared:                       0.534\n",
      "Model:                            OLS   Adj. R-squared:                  0.526\n",
      "Method:                 Least Squares   F-statistic:                     65.28\n",
      "Date:                Mon, 17 Apr 2023   Prob (F-statistic):           5.06e-11\n",
      "Time:                        14:32:21   Log-Likelihood:                 79.556\n",
      "No. Observations:                  59   AIC:                            -155.1\n",
      "Df Residuals:                      57   BIC:                            -151.0\n",
      "Df Model:                           1                                         \n",
      "Covariance Type:            nonrobust                                         \n",
      "=====================================================================================\n",
      "                        coef    std err          t      P>|t|      [0.025      0.975]\n",
      "-------------------------------------------------------------------------------------\n",
      "const                 0.0135      0.008      1.620      0.111      -0.003       0.030\n",
      "Log_Market_Return     1.2492      0.155      8.080      0.000       0.940       1.559\n",
      "==============================================================================\n",
      "Omnibus:                       10.835   Durbin-Watson:                   1.928\n",
      "Prob(Omnibus):                  0.004   Jarque-Bera (JB):               13.990\n",
      "Skew:                          -0.681   Prob(JB):                     0.000916\n",
      "Kurtosis:                       4.958   Cond. No.                         18.6\n",
      "==============================================================================\n",
      "\n",
      "Notes:\n",
      "[1] Standard Errors assume that the covariance matrix of the errors is correctly specified.\n"
     ]
    }
   ],
   "source": [
    "import statsmodels.api as sm\n",
    "\n",
    "Market=Data['Log_Market_Return']\n",
    "Security=Data['Log_Apple_Return']\n",
    "Market=sm.add_constant(Market)\n",
    "\n",
    "capm_model=sm.OLS(Security,Market).fit() # fitting linearn regression \n",
    "\n",
    "print(capm_model.summary())"
   ]
  },
  {
   "cell_type": "code",
   "execution_count": 53,
   "id": "4ce6f48e",
   "metadata": {},
   "outputs": [
    {
     "data": {
      "text/plain": [
       "const                0.013546\n",
       "Log_Market_Return    1.249217\n",
       "dtype: float64"
      ]
     },
     "execution_count": 53,
     "metadata": {},
     "output_type": "execute_result"
    }
   ],
   "source": [
    "capm_model.params"
   ]
  },
  {
   "cell_type": "code",
   "execution_count": 54,
   "id": "95977a7d",
   "metadata": {},
   "outputs": [
    {
     "data": {
      "text/plain": [
       "0.013546498053630403"
      ]
     },
     "execution_count": 54,
     "metadata": {},
     "output_type": "execute_result"
    }
   ],
   "source": [
    "Risk_Free_Rate=capm_model.params[0]\n",
    "Risk_Free_Rate"
   ]
  },
  {
   "cell_type": "markdown",
   "id": "291d8189",
   "metadata": {},
   "source": [
    "## 4. Building The CAPM Function"
   ]
  },
  {
   "cell_type": "code",
   "execution_count": 55,
   "id": "a3253bad",
   "metadata": {},
   "outputs": [
    {
     "data": {
      "image/png": "[encoded data removed]",
      "text/plain": [
       "<Figure size 2000x1000 with 1 Axes>"
      ]
     },
     "metadata": {},
     "output_type": "display_data"
    }
   ],
   "source": [
    "import matplotlib.pyplot as plt\n",
    "\n",
    "plt.figure(figsize=(20,10))\n",
    "plt.scatter(Data['Log_Market_Return'], Data['Log_Apple_Return']-Risk_Free_Rate, label=\"Data Points\") # plotting all the data points\n",
    "\n",
    "\n",
    "plt.plot(Data['Log_Market_Return'], Risk_Free_Rate+(Beta*(Data['Log_Market_Return']-Risk_Free_Rate)),\n",
    "         color=\"Red\", label=\"CAPM Line\") # CAPM line\n",
    "\n",
    "plt.title(\"CAPM Line and Data Point\", fontsize=18)\n",
    "plt.ylabel(\"Stock_Return\", fontsize=18)\n",
    "plt.xlabel(\"Market_Preimum\", fontsize=18)\n",
    "\n",
    "\n",
    "plt.text(0.08, 0.08, r'$R_a = \\beta * (R_m-R_f) + R_f$', fontsize=18)# this is the location of the text\n",
    "plt.legend()\n",
    "plt.show()"
   ]
  },
  {
   "cell_type": "markdown",
   "id": "e10bb4ae",
   "metadata": {},
   "source": [
    "## 5. Making Investment Decision "
   ]
  },
  {
   "cell_type": "code",
   "execution_count": 56,
   "id": "80ddab84",
   "metadata": {},
   "outputs": [],
   "source": [
    "# required rate of return \n",
    "Required_Risk_Free_Rate=Risk_Free_Rate+((Beta*(Data['Log_Market_Return'].mean()-Risk_Free_Rate)))"
   ]
  },
  {
   "cell_type": "code",
   "execution_count": 57,
   "id": "3a3f7089",
   "metadata": {},
   "outputs": [
    {
     "data": {
      "text/plain": [
       "0.0031295495198258236"
      ]
     },
     "execution_count": 57,
     "metadata": {},
     "output_type": "execute_result"
    }
   ],
   "source": [
    "Required_Risk_Free_Rate"
   ]
  },
  {
   "cell_type": "markdown",
   "id": "e427ba4c",
   "metadata": {},
   "source": [
    "### Return on Equity 147.94% From Yahoo Finance"
   ]
  },
  {
   "cell_type": "markdown",
   "id": "280454d3",
   "metadata": {},
   "source": [
    "## Potential Investment Opportunity since Return on equity is higher than required risk of return "
   ]
  }
 ],
 "metadata": {
  "kernelspec": {
   "display_name": "Python 3 (ipykernel)",
   "language": "python",
   "name": "python3"
  },
  "language_info": {
   "codemirror_mode": {
    "name": "ipython",
    "version": 3
   },
   "file_extension": ".py",
   "mimetype": "text/x-python",
   "name": "python",
   "nbconvert_exporter": "python",
   "pygments_lexer": "ipython3",
   "version": "3.9.13"
  }
 },
 "nbformat": 4,
 "nbformat_minor": 5
}
